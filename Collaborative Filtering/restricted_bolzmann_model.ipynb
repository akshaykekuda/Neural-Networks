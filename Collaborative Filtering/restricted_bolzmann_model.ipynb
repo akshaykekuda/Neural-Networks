{
  "nbformat": 4,
  "nbformat_minor": 0,
  "metadata": {
    "colab": {
      "name": "5526_LAB3_Akshay_Kekuda.ipynb",
      "provenance": [],
      "collapsed_sections": []
    },
    "kernelspec": {
      "name": "python3",
      "display_name": "Python 3"
    },
    "language_info": {
      "name": "python"
    }
  },
  "cells": [
    {
      "cell_type": "code",
      "metadata": {
        "id": "K91zrQ1iY1CD"
      },
      "source": [
        "import matplotlib.pyplot as plt\n",
        "import numpy as np\n",
        "import pandas as pd"
      ],
      "execution_count": 2,
      "outputs": []
    },
    {
      "cell_type": "code",
      "metadata": {
        "id": "roJJ947fYd8X",
        "colab": {
          "resources": {
            "http://localhost:8080/nbextensions/google.colab/files.js": {
              "data": "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",
              "ok": true,
              "headers": [
                [
                  "content-type",
                  "application/javascript"
                ]
              ],
              "status": 200,
              "status_text": ""
            }
          },
          "base_uri": "https://localhost:8080/",
          "height": 72
        },
        "outputId": "1f55bbf6-3932-44d3-8a93-d8e368fb1631"
      },
      "source": [
        "from google.colab import files\n",
        "uploaded = files.upload()"
      ],
      "execution_count": 3,
      "outputs": [
        {
          "output_type": "display_data",
          "data": {
            "text/html": [
              "\n",
              "     <input type=\"file\" id=\"files-1a7ab0e2-e84f-4a28-ad63-f0b0ee02e4c2\" name=\"files[]\" multiple disabled\n",
              "        style=\"border:none\" />\n",
              "     <output id=\"result-1a7ab0e2-e84f-4a28-ad63-f0b0ee02e4c2\">\n",
              "      Upload widget is only available when the cell has been executed in the\n",
              "      current browser session. Please rerun this cell to enable.\n",
              "      </output>\n",
              "      <script src=\"/nbextensions/google.colab/files.js\"></script> "
            ],
            "text/plain": [
              "<IPython.core.display.HTML object>"
            ]
          },
          "metadata": {
            "tags": []
          }
        },
        {
          "output_type": "stream",
          "text": [
            "Saving icecream.csv to icecream.csv\n"
          ],
          "name": "stdout"
        }
      ]
    },
    {
      "cell_type": "code",
      "metadata": {
        "id": "JnixuFXEYymr"
      },
      "source": [
        "df = pd.read_csv(\"icecream.csv\", header=None)"
      ],
      "execution_count": 4,
      "outputs": []
    },
    {
      "cell_type": "code",
      "metadata": {
        "colab": {
          "base_uri": "https://localhost:8080/",
          "height": 419
        },
        "id": "ItRoWjdnZAND",
        "outputId": "ea00ce15-e533-43f5-89ef-423442205305"
      },
      "source": [
        "df"
      ],
      "execution_count": 5,
      "outputs": [
        {
          "output_type": "execute_result",
          "data": {
            "text/html": [
              "<div>\n",
              "<style scoped>\n",
              "    .dataframe tbody tr th:only-of-type {\n",
              "        vertical-align: middle;\n",
              "    }\n",
              "\n",
              "    .dataframe tbody tr th {\n",
              "        vertical-align: top;\n",
              "    }\n",
              "\n",
              "    .dataframe thead th {\n",
              "        text-align: right;\n",
              "    }\n",
              "</style>\n",
              "<table border=\"1\" class=\"dataframe\">\n",
              "  <thead>\n",
              "    <tr style=\"text-align: right;\">\n",
              "      <th></th>\n",
              "      <th>0</th>\n",
              "      <th>1</th>\n",
              "      <th>2</th>\n",
              "      <th>3</th>\n",
              "      <th>4</th>\n",
              "      <th>5</th>\n",
              "      <th>6</th>\n",
              "      <th>7</th>\n",
              "      <th>8</th>\n",
              "      <th>9</th>\n",
              "    </tr>\n",
              "  </thead>\n",
              "  <tbody>\n",
              "    <tr>\n",
              "      <th>0</th>\n",
              "      <td>1</td>\n",
              "      <td>0</td>\n",
              "      <td>1</td>\n",
              "      <td>1</td>\n",
              "      <td>0</td>\n",
              "      <td>1</td>\n",
              "      <td>0</td>\n",
              "      <td>1</td>\n",
              "      <td>1</td>\n",
              "      <td>1</td>\n",
              "    </tr>\n",
              "    <tr>\n",
              "      <th>1</th>\n",
              "      <td>1</td>\n",
              "      <td>1</td>\n",
              "      <td>0</td>\n",
              "      <td>1</td>\n",
              "      <td>0</td>\n",
              "      <td>1</td>\n",
              "      <td>1</td>\n",
              "      <td>1</td>\n",
              "      <td>0</td>\n",
              "      <td>0</td>\n",
              "    </tr>\n",
              "    <tr>\n",
              "      <th>2</th>\n",
              "      <td>0</td>\n",
              "      <td>0</td>\n",
              "      <td>1</td>\n",
              "      <td>1</td>\n",
              "      <td>0</td>\n",
              "      <td>0</td>\n",
              "      <td>1</td>\n",
              "      <td>0</td>\n",
              "      <td>0</td>\n",
              "      <td>0</td>\n",
              "    </tr>\n",
              "    <tr>\n",
              "      <th>3</th>\n",
              "      <td>1</td>\n",
              "      <td>0</td>\n",
              "      <td>0</td>\n",
              "      <td>1</td>\n",
              "      <td>0</td>\n",
              "      <td>0</td>\n",
              "      <td>1</td>\n",
              "      <td>1</td>\n",
              "      <td>0</td>\n",
              "      <td>1</td>\n",
              "    </tr>\n",
              "    <tr>\n",
              "      <th>4</th>\n",
              "      <td>1</td>\n",
              "      <td>1</td>\n",
              "      <td>0</td>\n",
              "      <td>0</td>\n",
              "      <td>0</td>\n",
              "      <td>0</td>\n",
              "      <td>1</td>\n",
              "      <td>1</td>\n",
              "      <td>1</td>\n",
              "      <td>0</td>\n",
              "    </tr>\n",
              "    <tr>\n",
              "      <th>...</th>\n",
              "      <td>...</td>\n",
              "      <td>...</td>\n",
              "      <td>...</td>\n",
              "      <td>...</td>\n",
              "      <td>...</td>\n",
              "      <td>...</td>\n",
              "      <td>...</td>\n",
              "      <td>...</td>\n",
              "      <td>...</td>\n",
              "      <td>...</td>\n",
              "    </tr>\n",
              "    <tr>\n",
              "      <th>115</th>\n",
              "      <td>1</td>\n",
              "      <td>1</td>\n",
              "      <td>1</td>\n",
              "      <td>1</td>\n",
              "      <td>1</td>\n",
              "      <td>0</td>\n",
              "      <td>0</td>\n",
              "      <td>0</td>\n",
              "      <td>0</td>\n",
              "      <td>1</td>\n",
              "    </tr>\n",
              "    <tr>\n",
              "      <th>116</th>\n",
              "      <td>0</td>\n",
              "      <td>1</td>\n",
              "      <td>1</td>\n",
              "      <td>0</td>\n",
              "      <td>1</td>\n",
              "      <td>0</td>\n",
              "      <td>0</td>\n",
              "      <td>0</td>\n",
              "      <td>1</td>\n",
              "      <td>0</td>\n",
              "    </tr>\n",
              "    <tr>\n",
              "      <th>117</th>\n",
              "      <td>0</td>\n",
              "      <td>1</td>\n",
              "      <td>1</td>\n",
              "      <td>1</td>\n",
              "      <td>1</td>\n",
              "      <td>0</td>\n",
              "      <td>0</td>\n",
              "      <td>0</td>\n",
              "      <td>1</td>\n",
              "      <td>1</td>\n",
              "    </tr>\n",
              "    <tr>\n",
              "      <th>118</th>\n",
              "      <td>0</td>\n",
              "      <td>0</td>\n",
              "      <td>1</td>\n",
              "      <td>1</td>\n",
              "      <td>1</td>\n",
              "      <td>1</td>\n",
              "      <td>0</td>\n",
              "      <td>0</td>\n",
              "      <td>1</td>\n",
              "      <td>0</td>\n",
              "    </tr>\n",
              "    <tr>\n",
              "      <th>119</th>\n",
              "      <td>0</td>\n",
              "      <td>1</td>\n",
              "      <td>1</td>\n",
              "      <td>0</td>\n",
              "      <td>0</td>\n",
              "      <td>0</td>\n",
              "      <td>0</td>\n",
              "      <td>0</td>\n",
              "      <td>1</td>\n",
              "      <td>1</td>\n",
              "    </tr>\n",
              "  </tbody>\n",
              "</table>\n",
              "<p>120 rows × 10 columns</p>\n",
              "</div>"
            ],
            "text/plain": [
              "     0  1  2  3  4  5  6  7  8  9\n",
              "0    1  0  1  1  0  1  0  1  1  1\n",
              "1    1  1  0  1  0  1  1  1  0  0\n",
              "2    0  0  1  1  0  0  1  0  0  0\n",
              "3    1  0  0  1  0  0  1  1  0  1\n",
              "4    1  1  0  0  0  0  1  1  1  0\n",
              "..  .. .. .. .. .. .. .. .. .. ..\n",
              "115  1  1  1  1  1  0  0  0  0  1\n",
              "116  0  1  1  0  1  0  0  0  1  0\n",
              "117  0  1  1  1  1  0  0  0  1  1\n",
              "118  0  0  1  1  1  1  0  0  1  0\n",
              "119  0  1  1  0  0  0  0  0  1  1\n",
              "\n",
              "[120 rows x 10 columns]"
            ]
          },
          "metadata": {
            "tags": []
          },
          "execution_count": 5
        }
      ]
    },
    {
      "cell_type": "markdown",
      "metadata": {
        "id": "kFH3zGEh3qET"
      },
      "source": [
        "## Part 1\n"
      ]
    },
    {
      "cell_type": "markdown",
      "metadata": {
        "id": "BUL04NOw4IZ3"
      },
      "source": [
        "### Preparing the input data"
      ]
    },
    {
      "cell_type": "code",
      "metadata": {
        "colab": {
          "base_uri": "https://localhost:8080/"
        },
        "id": "asM92he8ZFOd",
        "outputId": "52d9315a-5d73-40e6-b2dd-d64d2f8924d4"
      },
      "source": [
        "V0 = df.to_numpy()\n",
        "V0 = V0*2 - 1\n",
        "V0.shape"
      ],
      "execution_count": 101,
      "outputs": [
        {
          "output_type": "execute_result",
          "data": {
            "text/plain": [
              "(120, 10)"
            ]
          },
          "metadata": {
            "tags": []
          },
          "execution_count": 101
        }
      ]
    },
    {
      "cell_type": "markdown",
      "metadata": {
        "id": "9mANEUJM4A8K"
      },
      "source": [
        "### RBM train function\n",
        "\n",
        "This function takes the input data and tries to reconstruct it. It also plots the MAE vs epoch lenght"
      ]
    },
    {
      "cell_type": "code",
      "metadata": {
        "id": "9TabJyEKhkBE"
      },
      "source": [
        "def train_weights_RBM(input, hidden_size, epoch_len, eta):\n",
        "  V0 = input\n",
        "  w = np.random.uniform(low = 0, high=0.1, size=(V0.shape[1], hidden_size))\n",
        "  error_arr = []\n",
        "\n",
        "  for epoch in range(epoch_len):\n",
        "    H0 = np.array([]).reshape(0, hidden_size)\n",
        "    V1 = np.array([]).reshape(0, V0.shape[1])\n",
        "    H1 = np.array([]).reshape(0, hidden_size)\n",
        "    for v0 in V0:\n",
        "      prod = np.matmul(w.T, v0)\n",
        "      h0 = np.sign((1 / (1+ np.exp(-1 * prod))) - np.random.uniform(size = prod.shape))\n",
        "      H0 = np.vstack((H0, h0))\n",
        "      prod = np.matmul(w, h0)\n",
        "      v1 = np.sign((1 / (1+ np.exp(-1 * prod))) - np.random.uniform(size = prod.shape))\n",
        "      V1 = np.vstack((V1, v1))\n",
        "      prod = np.matmul(w.T, v1)\n",
        "      h1 = np.sign((1 / (1+ np.exp(-1 * prod))) - np.random.uniform(size = prod.shape))\n",
        "      H1 = np.vstack((H1, h1))\n",
        "    V0H0 = V0.T @ H0 / V0.shape[0]\n",
        "    V1H1 = V1.T @ H1 / V1.shape[0]\n",
        "    w = w + eta * (V0H0 - V1H1)\n",
        "    error = np.average(np.sum(np.abs(V0-V1), axis = 1))\n",
        "    error_arr.append(error)\n",
        "\n",
        "  plt.plot(error_arr)\n",
        "  plt.show()\n",
        "  return w"
      ],
      "execution_count": 102,
      "outputs": []
    },
    {
      "cell_type": "code",
      "metadata": {
        "colab": {
          "base_uri": "https://localhost:8080/",
          "height": 435
        },
        "id": "2QOj_9HU8lIM",
        "outputId": "e6f43bf8-d2da-4997-a196-7147f5056622"
      },
      "source": [
        "train_weights_RBM(V0, 4, 10000, 0.1)"
      ],
      "execution_count": 103,
      "outputs": [
        {
          "output_type": "display_data",
          "data": {
            "image/png": "[encoded data removed]",
            "text/plain": [
              "<Figure size 432x288 with 1 Axes>"
            ]
          },
          "metadata": {
            "tags": [],
            "needs_background": "light"
          }
        },
        {
          "output_type": "execute_result",
          "data": {
            "text/plain": [
              "array([[ 3.75840986,  0.57672639,  2.1971951 ,  2.04009391],\n",
              "       [-0.21455366,  0.51576165,  0.50914556,  0.35982805],\n",
              "       [ 1.99923925, -0.31457506, -4.84289316, -0.36603127],\n",
              "       [ 1.2342366 ,  0.86843833,  0.8927611 , -1.34692203],\n",
              "       [-0.02015284,  0.20680179, -1.01680144, -0.45298002],\n",
              "       [ 0.33104584,  1.01688803,  0.34398506, -1.41775279],\n",
              "       [ 0.87398657, -0.00895895,  0.28546718, -0.22108828],\n",
              "       [ 1.09558188,  0.66908623,  0.45373934, -0.49233763],\n",
              "       [-1.74992864,  4.13588991, -0.87428235,  1.34511576],\n",
              "       [-0.80459214, -0.66286357, -0.79644609,  1.51001008]])"
            ]
          },
          "metadata": {
            "tags": []
          },
          "execution_count": 103
        }
      ]
    },
    {
      "cell_type": "code",
      "metadata": {
        "colab": {
          "base_uri": "https://localhost:8080/",
          "height": 435
        },
        "id": "iJXpUzTaAHoK",
        "outputId": "ff8e9f01-fabd-422c-a1ef-b14785583998"
      },
      "source": [
        "train_weights_RBM(V0, 4, 10000, 0.01)"
      ],
      "execution_count": 105,
      "outputs": [
        {
          "output_type": "display_data",
          "data": {
            "image/png": "[encoded data removed]",
            "text/plain": [
              "<Figure size 432x288 with 1 Axes>"
            ]
          },
          "metadata": {
            "tags": [],
            "needs_background": "light"
          }
        },
        {
          "output_type": "execute_result",
          "data": {
            "text/plain": [
              "array([[ 1.84472544, -0.89327713,  0.23423242, -0.93964976],\n",
              "       [-0.40494525, -0.45586061,  1.17409853, -0.86371623],\n",
              "       [ 0.09208822,  2.24563432, -0.51271435,  0.34852725],\n",
              "       [ 0.82004432, -0.66161984,  0.72799165,  1.07696345],\n",
              "       [ 0.07510507,  1.35672893,  0.11540465,  0.53367735],\n",
              "       [-0.10112011, -0.19786091,  0.8598533 ,  1.31697586],\n",
              "       [ 0.97430898, -0.35317786, -0.42747122,  0.4449765 ],\n",
              "       [ 1.27173903, -0.11570446,  0.4379997 ,  0.49591269],\n",
              "       [-0.46310891,  0.60619114,  1.6916487 , -0.50051177],\n",
              "       [-0.2178783 ,  0.73571642, -0.82457332, -1.38533142]])"
            ]
          },
          "metadata": {
            "tags": []
          },
          "execution_count": 105
        }
      ]
    },
    {
      "cell_type": "code",
      "metadata": {
        "colab": {
          "base_uri": "https://localhost:8080/",
          "height": 435
        },
        "id": "pGGxYE77-Jts",
        "outputId": "ecd43150-8945-4a73-e280-1c479ef4126e"
      },
      "source": [
        "train_weights_RBM(V0, 4, 10000, 0.5)"
      ],
      "execution_count": 106,
      "outputs": [
        {
          "output_type": "display_data",
          "data": {
            "image/png": "[encoded data removed]",
            "text/plain": [
              "<Figure size 432x288 with 1 Axes>"
            ]
          },
          "metadata": {
            "tags": [],
            "needs_background": "light"
          }
        },
        {
          "output_type": "execute_result",
          "data": {
            "text/plain": [
              "array([[ 1.41454314,  0.42019972, -0.65872996,  1.53064291],\n",
              "       [-0.09712007, -0.94314474,  0.11499782, -0.53734251],\n",
              "       [-6.39430357,  6.91015424,  1.20013687, -6.79621357],\n",
              "       [ 0.83769497,  0.23776027,  1.11871099,  0.82265394],\n",
              "       [-0.11952637,  0.36523592,  0.37316975, -0.64825462],\n",
              "       [ 0.79901345,  0.14457082,  1.00493474, -0.39662221],\n",
              "       [ 0.96770209,  0.93606152,  0.04188157,  1.20077775],\n",
              "       [ 3.11395946,  2.41264186,  0.59741977,  0.91243983],\n",
              "       [ 5.07085446, -2.67746519,  0.17233565, -7.78675704],\n",
              "       [ 0.07954396,  1.19181172, -2.89784605, -0.99975504]])"
            ]
          },
          "metadata": {
            "tags": []
          },
          "execution_count": 106
        }
      ]
    },
    {
      "cell_type": "code",
      "metadata": {
        "colab": {
          "base_uri": "https://localhost:8080/",
          "height": 605
        },
        "id": "U2-COtTT6HmT",
        "outputId": "5ba2fcdb-33d9-4d31-de12-af53eec699fc"
      },
      "source": [
        "train_weights_RBM(V0, 10, 10000, 0.1)"
      ],
      "execution_count": 107,
      "outputs": [
        {
          "output_type": "display_data",
          "data": {
            "image/png": "[encoded data removed]",
            "text/plain": [
              "<Figure size 432x288 with 1 Axes>"
            ]
          },
          "metadata": {
            "tags": [],
            "needs_background": "light"
          }
        },
        {
          "output_type": "execute_result",
          "data": {
            "text/plain": [
              "array([[ 1.26532105, -4.94680073, -1.2729457 ,  3.23282267,  4.0615354 ,\n",
              "        -4.23387978,  0.59744883, -4.9188305 ,  2.35091593,  2.13978295],\n",
              "       [-2.81456367,  2.53142561,  2.53107114,  0.85820823, -2.47795286,\n",
              "        -0.24751671, -0.88951075, -2.07244556,  2.32637545,  4.67088483],\n",
              "       [-2.90381718,  2.18087928, -3.98099488, -4.02387016,  0.83008259,\n",
              "        -0.85456795, -0.52436666, -0.33886414,  0.67985389, -0.72419584],\n",
              "       [ 2.12141178,  4.61258354,  0.99343747,  1.77666972,  3.40643749,\n",
              "        -1.79070105,  4.0804771 ,  2.40324019,  1.37163991,  1.28347987],\n",
              "       [ 0.36639388,  0.69985106, -2.95643937,  1.027572  , -2.11892782,\n",
              "        -0.55810519, -0.3755027 ,  2.07496668,  1.23443162,  0.5854846 ],\n",
              "       [ 2.89528365, -2.40720175, -0.43548555, -3.56783025,  0.23221897,\n",
              "        -3.05774623,  0.93943694,  2.4746203 , -3.3606504 ,  3.5458184 ],\n",
              "       [ 2.28438749,  3.08044313, -0.2178821 ,  2.21983263,  2.6433345 ,\n",
              "        -3.54968533, -4.83728415,  0.83136976, -1.53299548, -1.21412332],\n",
              "       [ 2.59439652, -2.32418004,  1.63403704, -2.73668698,  1.50765607,\n",
              "        -0.99008151, -2.13489742,  2.68073972,  5.71841323, -0.9260027 ],\n",
              "       [ 5.74228423,  1.13988487, -0.61355754, -1.50028978, -1.21290413,\n",
              "         3.16399442, -1.09802837, -2.84155382, -0.35533043,  3.56519688],\n",
              "       [ 1.92563984,  0.61123248, -1.54670803,  0.33322429, -3.86461205,\n",
              "        -1.80641543,  1.10163405, -3.49242685,  1.0547301 , -3.23746946]])"
            ]
          },
          "metadata": {
            "tags": []
          },
          "execution_count": 107
        }
      ]
    },
    {
      "cell_type": "code",
      "metadata": {
        "colab": {
          "base_uri": "https://localhost:8080/",
          "height": 775
        },
        "id": "O5mey98x4U6E",
        "outputId": "695286a6-cddb-467e-bbe6-44bec6f2e37d"
      },
      "source": [
        "train_weights_RBM(V0, 15, 10000, 0.1)"
      ],
      "execution_count": 118,
      "outputs": [
        {
          "output_type": "display_data",
          "data": {
            "image/png": "[encoded data removed]",
            "text/plain": [
              "<Figure size 432x288 with 1 Axes>"
            ]
          },
          "metadata": {
            "tags": [],
            "needs_background": "light"
          }
        },
        {
          "output_type": "execute_result",
          "data": {
            "text/plain": [
              "array([[-3.01402473,  3.88389876, -2.97877988,  2.14549833,  2.18062708,\n",
              "         1.63155536, -1.69958014,  3.38743423, -2.57389875,  3.41618041,\n",
              "        -3.16382572, -2.45667269,  2.35332065,  0.56909989, -1.56824801],\n",
              "       [-1.68511182, -0.59568905, -3.47228035, -0.83307493,  2.30190821,\n",
              "         0.65026823,  2.70959558, -0.81342836,  2.52746053, -1.48320885,\n",
              "        -2.12317791,  3.90313506,  1.70957797, -0.12819029, -0.69445699],\n",
              "       [ 0.122191  , -1.39682264, -0.37912471, -4.31120936, -1.48188082,\n",
              "        -4.18000683, -2.53064673, -0.38898384,  2.6121457 ,  3.16828583,\n",
              "        -3.92956122, -0.15812305, -3.2634954 , -2.78131736, -1.4176702 ],\n",
              "       [ 1.39018117,  2.0687037 ,  0.77327609, -0.16611951,  4.0360513 ,\n",
              "         2.0281083 , -1.58613726, -2.68409186,  4.86580586,  2.07214733,\n",
              "         1.3866253 , -1.88978963,  1.09993054,  4.20571617, -1.22613785],\n",
              "       [ 2.4812062 , -0.2088896 ,  2.30660323,  1.59735897,  1.10926697,\n",
              "         0.02232425, -2.92479521,  1.69613371,  2.92920546,  1.1162149 ,\n",
              "        -2.4198415 ,  2.58708423,  1.90294026, -3.36124959,  2.95656917],\n",
              "       [ 2.24441458, -2.773271  ,  0.08138015,  0.08902132,  2.67849378,\n",
              "         2.04029834,  0.16212555,  2.96563494, -0.86699515,  1.42438284,\n",
              "         2.13038483, -0.01928743, -2.9484679 , -0.1765824 , -2.65066613],\n",
              "       [ 1.06982625, -4.53474589, -3.32020844, -0.66600195, -0.83535197,\n",
              "        -0.31005386, -1.94214838, -0.46457153, -0.41328611,  1.62619109,\n",
              "         1.58695879, -2.5098462 ,  3.37425343,  1.94067846,  2.38106109],\n",
              "       [ 2.24874465,  0.1532364 , -0.30122195, -0.92680631, -2.07579676,\n",
              "         4.03292302,  2.53148161,  1.30187933, -0.03035957,  1.91439616,\n",
              "        -4.56323325, -2.72489696, -2.92920231,  2.94322466,  3.12139854],\n",
              "       [-1.85225195, -3.95012615,  0.52276644,  2.52637638,  3.05855506,\n",
              "         1.94335723, -0.2794986 , -3.48448428, -2.06789476,  0.56540616,\n",
              "        -2.40843138,  1.71545915, -3.31998561, -0.44860111,  1.32852239],\n",
              "       [-2.62306178,  2.33316044,  0.3934215 , -3.31088508, -0.21965206,\n",
              "         1.15695855, -1.89605406, -0.1482832 , -2.11202315,  1.32451234,\n",
              "         1.88477522,  3.94581437, -0.90121745,  0.69951195,  2.60499395]])"
            ]
          },
          "metadata": {
            "tags": []
          },
          "execution_count": 118
        }
      ]
    },
    {
      "cell_type": "code",
      "metadata": {
        "colab": {
          "base_uri": "https://localhost:8080/",
          "height": 608
        },
        "id": "n8T9sbebVPBz",
        "outputId": "230e96e3-460a-4727-f381-7d63f271457c"
      },
      "source": [
        "train_weights_RBM(V0, 6, 10000, 1)"
      ],
      "execution_count": 108,
      "outputs": [
        {
          "output_type": "display_data",
          "data": {
            "image/png": "[encoded data removed]",
            "text/plain": [
              "<Figure size 432x288 with 1 Axes>"
            ]
          },
          "metadata": {
            "tags": [],
            "needs_background": "light"
          }
        },
        {
          "output_type": "execute_result",
          "data": {
            "text/plain": [
              "array([[-3.38334812e+00,  3.16374558e+00, -3.74436811e+00,\n",
              "         6.67659326e+00,  1.32709149e+01,  2.05343144e+00],\n",
              "       [-4.52356585e-01,  1.37085080e+00,  2.10778152e-03,\n",
              "         7.66490877e-01, -3.37407222e-01, -5.09685803e-01],\n",
              "       [ 2.94387681e-01, -7.67460441e-01,  1.60987676e+00,\n",
              "         3.03281081e-01, -1.52119997e-01, -5.51360913e-01],\n",
              "       [-8.44582160e-01,  1.23375827e+00, -9.47817977e-01,\n",
              "        -1.77968403e+00,  8.35084407e-01,  2.49696046e-01],\n",
              "       [-1.83527522e+00,  1.55883807e-01,  8.34470985e+00,\n",
              "        -5.69815993e+00,  4.40767760e+00,  4.42685293e-01],\n",
              "       [ 1.72091322e+01,  1.72134944e+00, -3.09264043e+00,\n",
              "        -6.44668255e+00,  5.15838162e+00,  1.85134069e+00],\n",
              "       [-6.50508785e-01, -7.34848986e-01, -8.74756749e-01,\n",
              "        -1.39795388e+00,  1.33007769e+00,  1.72620464e+00],\n",
              "       [-2.32757431e+00,  5.56690937e-01, -7.32353046e-01,\n",
              "        -3.53104936e+00,  2.55797728e+00,  2.78678742e+00],\n",
              "       [ 2.10798738e+00,  1.06579855e+01,  4.25926905e+00,\n",
              "         6.28374876e+00, -7.59678092e+00,  6.59161845e+00],\n",
              "       [ 1.48633275e+00, -6.37863981e+00,  2.26871654e+00,\n",
              "         5.08021528e+00, -3.27774846e+00,  4.65863370e+00]])"
            ]
          },
          "metadata": {
            "tags": []
          },
          "execution_count": 108
        }
      ]
    },
    {
      "cell_type": "code",
      "metadata": {
        "colab": {
          "base_uri": "https://localhost:8080/",
          "height": 605
        },
        "id": "hB4liKwhZh2u",
        "outputId": "44804bb7-8e73-4b2a-9112-dc721d2bda78"
      },
      "source": [
        "train_weights_RBM(V0, 6, 10000, 1)"
      ],
      "execution_count": 109,
      "outputs": [
        {
          "output_type": "display_data",
          "data": {
            "image/png": "[encoded data removed]",
            "text/plain": [
              "<Figure size 432x288 with 1 Axes>"
            ]
          },
          "metadata": {
            "tags": [],
            "needs_background": "light"
          }
        },
        {
          "output_type": "execute_result",
          "data": {
            "text/plain": [
              "array([[ 0.52142105,  4.79961518,  1.86422317,  1.18551478,  1.08670303,\n",
              "        -4.99875378],\n",
              "       [ 1.0231945 , -0.34109858, -1.18176829,  0.25183176,  2.77661935,\n",
              "        -0.61706694],\n",
              "       [-0.29200369, -0.21992176, -0.14162823, -1.54881657, -0.8563008 ,\n",
              "         0.49726432],\n",
              "       [ 0.55353572,  0.93758599,  1.33113327,  1.24006742,  0.3159391 ,\n",
              "         0.85333943],\n",
              "       [ 4.86900835,  2.90137006,  6.82960742, -6.3506669 ,  0.42993507,\n",
              "         3.44850976],\n",
              "       [-8.22842449, -3.28437229, 10.63792855,  0.5899316 ,  1.49520559,\n",
              "        -1.06911584],\n",
              "       [ 1.64635155,  0.84066604,  1.717958  ,  1.04623441, -0.52112977,\n",
              "         0.54695801],\n",
              "       [ 1.66535945,  0.8121654 ,  1.90596769,  1.01623687,  0.06325402,\n",
              "         0.23582799],\n",
              "       [ 0.24417334, -1.18580459,  0.18592404, -0.47369103,  1.28227055,\n",
              "        -0.21144463],\n",
              "       [ 2.94443786, -4.8495972 ,  0.03057782, -2.85574654, -1.99783339,\n",
              "        -5.11811345]])"
            ]
          },
          "metadata": {
            "tags": []
          },
          "execution_count": 109
        }
      ]
    },
    {
      "cell_type": "markdown",
      "metadata": {
        "id": "Bzl8g2Bv4anz"
      },
      "source": [
        "### Adding bias to the input layer"
      ]
    },
    {
      "cell_type": "code",
      "metadata": {
        "id": "o6C7g98wh287"
      },
      "source": [
        "def train_weights_RBM_bias(input, hidden_size, epoch_len, eta):\n",
        "  V0 = input\n",
        "  w = np.random.uniform(low = -0.1, high=0.1, size=(11, hidden_size))\n",
        "  error_arr = []\n",
        "  V0 = np.hstack((np.ones((120,1)), V0))\n",
        "  for epoch in range(epoch_len):\n",
        "    H0 = np.array([]).reshape(0, hidden_size)\n",
        "    V1 = np.array([]).reshape(0, 11)\n",
        "    H1 = np.array([]).reshape(0, hidden_size) \n",
        "    for v0 in V0:\n",
        "      # print(v0)\n",
        "      prod = np.matmul(w.T, v0)\n",
        "      h0 = np.sign((1 / (1+ np.exp(-1 * prod))) - np.random.uniform(size = prod.shape))\n",
        "      # print(h0)\n",
        "      H0 = np.vstack((H0, h0))\n",
        "      # print(h0.shape)\n",
        "      prod = np.matmul(w, h0)\n",
        "      v1 = np.sign((1 / (1+ np.exp(-1 * prod))) - np.random.uniform(size = prod.shape))\n",
        "      V1 = np.vstack((V1, v1))\n",
        "      # print(v1.shape)\n",
        "      prod = np.matmul(w.T, v1)\n",
        "      h1 = np.sign((1 / (1+ np.exp(-1 * prod))) - np.random.uniform(size = prod.shape))\n",
        "      H1 = np.vstack((H1, h1))\n",
        "      # print(h1.shape)\n",
        "    V0H0 = V0.T @ H0 / V0.shape[0]\n",
        "    V1H1 = V1.T @ H1 / V1.shape[0]\n",
        "    w = w + eta * (V0H0 - V1H1)\n",
        "    error = np.average(np.sum(np.abs(V0-V1), axis = 1))\n",
        "    error_arr.append(error)\n",
        "\n",
        "  plt.plot(error_arr)"
      ],
      "execution_count": 111,
      "outputs": []
    },
    {
      "cell_type": "code",
      "metadata": {
        "colab": {
          "base_uri": "https://localhost:8080/",
          "height": 265
        },
        "id": "qcn5R5EeBT52",
        "outputId": "36b51656-fbdf-4cd6-b989-d4794f0a440c"
      },
      "source": [
        "train_weights_RBM_bias(V0, 4, 10000, 0.1)"
      ],
      "execution_count": 112,
      "outputs": [
        {
          "output_type": "display_data",
          "data": {
            "image/png": "[encoded data removed]",
            "text/plain": [
              "<Figure size 432x288 with 1 Axes>"
            ]
          },
          "metadata": {
            "tags": [],
            "needs_background": "light"
          }
        }
      ]
    },
    {
      "cell_type": "markdown",
      "metadata": {
        "id": "xLhrfCDl4mL4"
      },
      "source": [
        "### Increasing the number of iterations in contrastive divergence estimation"
      ]
    },
    {
      "cell_type": "code",
      "metadata": {
        "id": "J-oAmPqS124V"
      },
      "source": [
        "def train_weights_RBM_div(input, hidden_size, epoch_len, eta):\n",
        "\n",
        "  V0 = input\n",
        "  w = np.random.uniform(low = -0.1, high=0.1, size=(10, hidden_size))\n",
        "  error_arr = []\n",
        "  for epoch in range(epoch_len):\n",
        "    H0 = np.array([]).reshape(0, hidden_size)\n",
        "    V1 = np.array([]).reshape(0, 10)\n",
        "    H1 = np.array([]).reshape(0, hidden_size)\n",
        "    V2 = np.array([]).reshape(0, 10)\n",
        "    H2 = np.array([]).reshape(0, hidden_size)\n",
        "    V3 = np.array([]).reshape(0, 10)\n",
        "    H3 = np.array([]).reshape(0, hidden_size)  \n",
        "    for v0 in V0:\n",
        "      prod = np.matmul(w.T, v0)\n",
        "      h0 = np.sign((1 / (1+ np.exp(-1 * prod))) - np.random.uniform(size = prod.shape))\n",
        "      H0 = np.vstack((H0, h0))\n",
        "      prod = np.matmul(w, h0)\n",
        "      v1 = np.sign((1 / (1+ np.exp(-1 * prod))) - np.random.uniform(size = prod.shape))\n",
        "      V1 = np.vstack((V1, v1))\n",
        "      prod = np.matmul(w.T, v1)\n",
        "      h1 = np.sign((1 / (1+ np.exp(-1 * prod))) - np.random.uniform(size = prod.shape))\n",
        "      H1 = np.vstack((H1, h1))\n",
        "      prod = np.matmul(w, h1)\n",
        "      v2 = np.sign((1 / (1+ np.exp(-1 * prod))) - np.random.uniform(size = prod.shape))\n",
        "      V2 = np.vstack((V2, v2))\n",
        "      prod = np.matmul(w.T, v2)\n",
        "      h2 = np.sign((1 / (1+ np.exp(-1 * prod))) - np.random.uniform(size = prod.shape))\n",
        "      H2 = np.vstack((H2, h2))   \n",
        "\n",
        "    V0H0 = V0.T @ H0 / V0.shape[0]\n",
        "    V2H2 = V2.T @ H2 / V2.shape[0]\n",
        "    w = w + eta * (V0H0 - V2H2)\n",
        "    error = np.average(np.sum(np.abs(V0-V2), axis = 1))\n",
        "    error_arr.append(error)\n",
        "\n",
        "  plt.plot(error_arr)"
      ],
      "execution_count": 110,
      "outputs": []
    },
    {
      "cell_type": "code",
      "metadata": {
        "colab": {
          "base_uri": "https://localhost:8080/",
          "height": 265
        },
        "id": "yE01lxKtFzpL",
        "outputId": "bb80bada-d4c6-439f-dd8c-5122208a3335"
      },
      "source": [
        "train_weights_RBM_div(V0, 10, 1000, 0.01)"
      ],
      "execution_count": 113,
      "outputs": [
        {
          "output_type": "display_data",
          "data": {
            "image/png": "[encoded data removed]",
            "text/plain": [
              "<Figure size 432x288 with 1 Axes>"
            ]
          },
          "metadata": {
            "tags": [],
            "needs_background": "light"
          }
        }
      ]
    },
    {
      "cell_type": "markdown",
      "metadata": {
        "id": "kbeGu02q4uR1"
      },
      "source": [
        "##Bonus 1"
      ]
    },
    {
      "cell_type": "markdown",
      "metadata": {
        "id": "j7ELumMf41QF"
      },
      "source": [
        "### Train Test Split"
      ]
    },
    {
      "cell_type": "code",
      "metadata": {
        "id": "I0hG_Un9sKM_"
      },
      "source": [
        "V0 = df.to_numpy()\n",
        "V0 = V0*2 - 1\n",
        "np.random.shuffle(V0)\n",
        "training, test = V0[:108,:], V0[108:,:]\n"
      ],
      "execution_count": 166,
      "outputs": []
    },
    {
      "cell_type": "code",
      "metadata": {
        "colab": {
          "base_uri": "https://localhost:8080/",
          "height": 265
        },
        "id": "X-IU8CWExERG",
        "outputId": "f0294523-ae91-4aa9-94ad-b66f29f7d843"
      },
      "source": [
        "w = train_weights_RBM(training, 15, 10000, 0.1)"
      ],
      "execution_count": 140,
      "outputs": [
        {
          "output_type": "display_data",
          "data": {
            "image/png": "[encoded data removed]",
            "text/plain": [
              "<Figure size 432x288 with 1 Axes>"
            ]
          },
          "metadata": {
            "tags": [],
            "needs_background": "light"
          }
        }
      ]
    },
    {
      "cell_type": "markdown",
      "metadata": {
        "id": "Fr7Gmmr346SH"
      },
      "source": [
        "### Recommendation Ability Calculation"
      ]
    },
    {
      "cell_type": "code",
      "metadata": {
        "id": "i-xTfydhsu99"
      },
      "source": [
        "def rbm_predict(test):\n",
        "\n",
        "  idx_arr = []\n",
        "  error_arr = np.array([]).reshape(0, V0.shape[1])\n",
        "  count = 0\n",
        "  count1 = 0\n",
        "  for i in range(100):\n",
        "    for v0 in test:\n",
        "          np.random.shuffle(v0)\n",
        "          sample = v0.tolist()\n",
        "          idx_1 = sample.index(1)\n",
        "          idx_minus_1 = sample.index(-1)\n",
        "          sample[idx_1] = 0\n",
        "          sample[idx_minus_1] = 0\n",
        "          idx_arr.append([idx_1, idx_minus_1])\n",
        "          prod = np.matmul(w.T, sample)\n",
        "          h0 = np.sign((1 / (1+ np.exp(-1 * prod))) - np.random.uniform(size = prod.shape))\n",
        "          prod = np.matmul(w, h0)\n",
        "          v1 = np.sign((1 / (1+ np.exp(-1 * prod))) - np.random.uniform(size = prod.shape))\n",
        "          prob_1 = 1 / (1 + np.exp(-1 *prod[idx_1]))\n",
        "          prob_minus1 = 1 / (1 + np.exp(-1 *prod[idx_minus_1]))\n",
        "          if prob_1 > prob_minus1:\n",
        "            count1 = count1 +1\n",
        "          error_arr = np.vstack((error_arr, np.abs(v1 - v0)))\n",
        "          if v1[idx_1] == v0[idx_1]:\n",
        "            count = count + 1\n",
        "  print(\"Number of times probabilty of 1 was greater than probability of -1 = {}\".format(count1/len(error_arr)))\n",
        "  print(\"Number of times the changed 0 was correctly detected as 1 and coming fron 1 = {}\".format(count/len(error_arr)))    \n",
        "  print(\"Overall Accuracy of the system = {}\".format(1 - sum(sum(error_arr>0)) / (len(error_arr)*10)))"
      ],
      "execution_count": 147,
      "outputs": []
    },
    {
      "cell_type": "code",
      "metadata": {
        "colab": {
          "base_uri": "https://localhost:8080/"
        },
        "id": "r_ppZ5dbx-6S",
        "outputId": "37e7b248-6d1f-4e74-bc52-75f3f1984f5c"
      },
      "source": [
        "rbm_predict(test)"
      ],
      "execution_count": 156,
      "outputs": [
        {
          "output_type": "stream",
          "text": [
            "Number of times probabilty of 1 was greater than probability of -1 = 0.4875\n",
            "Number of times the changed 0 was correctly detected as 1 and coming fron 1 = 0.5066666666666667\n",
            "Overall Accuracy of the system = 0.8498333333333333\n"
          ],
          "name": "stdout"
        }
      ]
    },
    {
      "cell_type": "code",
      "metadata": {
        "colab": {
          "base_uri": "https://localhost:8080/",
          "height": 265
        },
        "id": "2xvmwnea6mMj",
        "outputId": "9736ccb9-c2b0-4a69-d6b3-a960f63e1fd2"
      },
      "source": [
        "w = train_weights_RBM(training, 4, 10000, 0.1)"
      ],
      "execution_count": 167,
      "outputs": [
        {
          "output_type": "display_data",
          "data": {
            "image/png": "[encoded data removed]",
            "text/plain": [
              "<Figure size 432x288 with 1 Axes>"
            ]
          },
          "metadata": {
            "tags": [],
            "needs_background": "light"
          }
        }
      ]
    },
    {
      "cell_type": "code",
      "metadata": {
        "colab": {
          "base_uri": "https://localhost:8080/"
        },
        "id": "HVVWx8Y669F9",
        "outputId": "84bc96dc-a30d-461d-ddab-baa9f7427cbf"
      },
      "source": [
        "rbm_predict(test)"
      ],
      "execution_count": 168,
      "outputs": [
        {
          "output_type": "stream",
          "text": [
            "Number of times probabilty of 1 was greater than probability of -1 = 0.5091666666666667\n",
            "Number of times the changed 0 was correctly detected as 1 and coming fron 1 = 0.49583333333333335\n",
            "Overall Accuracy of the system = 0.621\n"
          ],
          "name": "stdout"
        }
      ]
    },
    {
      "cell_type": "markdown",
      "metadata": {
        "id": "AOFORJoz9-L2"
      },
      "source": [
        "## Bonus 3"
      ]
    },
    {
      "cell_type": "code",
      "metadata": {
        "colab": {
          "resources": {
            "http://localhost:8080/nbextensions/google.colab/files.js": {
              "data": "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",
              "ok": true,
              "headers": [
                [
                  "content-type",
                  "application/javascript"
                ]
              ],
              "status": 200,
              "status_text": ""
            }
          },
          "base_uri": "https://localhost:8080/",
          "height": 72
        },
        "id": "rBIHwvKdjWMu",
        "outputId": "439c1333-86b3-40b4-da73-65c844e9cced"
      },
      "source": [
        "from google.colab import files\n",
        "uploaded = files.upload()"
      ],
      "execution_count": 128,
      "outputs": [
        {
          "output_type": "display_data",
          "data": {
            "text/html": [
              "\n",
              "     <input type=\"file\" id=\"files-0901beb4-ac2c-44fc-b901-63c44b6e396b\" name=\"files[]\" multiple disabled\n",
              "        style=\"border:none\" />\n",
              "     <output id=\"result-0901beb4-ac2c-44fc-b901-63c44b6e396b\">\n",
              "      Upload widget is only available when the cell has been executed in the\n",
              "      current browser session. Please rerun this cell to enable.\n",
              "      </output>\n",
              "      <script src=\"/nbextensions/google.colab/files.js\"></script> "
            ],
            "text/plain": [
              "<IPython.core.display.HTML object>"
            ]
          },
          "metadata": {
            "tags": []
          }
        },
        {
          "output_type": "stream",
          "text": [
            "Saving jester-simple.csv to jester-simple.csv\n"
          ],
          "name": "stdout"
        }
      ]
    },
    {
      "cell_type": "code",
      "metadata": {
        "colab": {
          "base_uri": "https://localhost:8080/"
        },
        "id": "uJFQ3SyNnPyA",
        "outputId": "15ea2a2e-89fc-4be0-d935-451fcb5384a2"
      },
      "source": [
        "V0 = np.loadtxt(\"jester-simple.csv\", delimiter=',')\n",
        "V0.shape"
      ],
      "execution_count": 158,
      "outputs": [
        {
          "output_type": "execute_result",
          "data": {
            "text/plain": [
              "(24983, 100)"
            ]
          },
          "metadata": {
            "tags": []
          },
          "execution_count": 158
        }
      ]
    },
    {
      "cell_type": "code",
      "metadata": {
        "id": "PDbH27trrA4a"
      },
      "source": [
        "training, test = V0[:22485,:], V0[22485:,:]"
      ],
      "execution_count": 159,
      "outputs": []
    },
    {
      "cell_type": "code",
      "metadata": {
        "colab": {
          "base_uri": "https://localhost:8080/"
        },
        "id": "8onIIZRHE09U",
        "outputId": "84967f0d-f819-4225-de7b-7ed6fdb70a05"
      },
      "source": [
        "training[0]"
      ],
      "execution_count": 161,
      "outputs": [
        {
          "output_type": "execute_result",
          "data": {
            "text/plain": [
              "array([-1.,  1., -1., -1., -1., -1., -1.,  1., -1., -1., -1., -1., -1.,\n",
              "        1., -1., -1., -1., -1., -1., -1., -1.,  0., -1., -1., -1.,  0.,\n",
              "        1.,  0.,  1., -1.,  0., -1., -1.,  1.,  1.,  1., -1., -1., -1.,\n",
              "       -1., -1., -1., -1., -1., -1., -1.,  1.,  0.,  1.,  1., -1., -1.,\n",
              "        1.,  1., -1.,  0., -1., -1.,  0., -1.,  1.,  1., -1., -1.,  0.,\n",
              "        0., -1.,  1.,  1., -1.,  0.,  0.,  0.,  0.,  0.,  0.,  0., -1.,\n",
              "        0.,  0.,  0., -1.,  0.,  0.,  0.,  0.,  0.,  0.,  0.,  0.,  0.,\n",
              "        0.,  0.,  0.,  0.,  0., -1.,  0.,  0.,  0.])"
            ]
          },
          "metadata": {
            "tags": []
          },
          "execution_count": 161
        }
      ]
    },
    {
      "cell_type": "code",
      "metadata": {
        "id": "y9VXDkf3mI6s"
      },
      "source": [
        "def rbm_predict_0(test):\n",
        "    for v0 in test:\n",
        "          prod = np.matmul(w.T, v0)\n",
        "          h0 = np.sign((1 / (1+ np.exp(-1 * prod))) - np.random.uniform(size = prod.shape))\n",
        "          prod = np.matmul(w, h0)\n",
        "          v1 = np.sign((1 / (1+ np.exp(-1 * prod))) - np.random.uniform(size = prod.shape))\n",
        "          error_arr = np.vstack((error_arr, np.abs(v1 - v0)))  \n",
        "    print(\"Overall Accuracy of the system = {}\".format(1 - sum(sum(error_arr>0)) / (len(error_arr)*10)))"
      ],
      "execution_count": 164,
      "outputs": []
    },
    {
      "cell_type": "code",
      "metadata": {
        "id": "bvZFUo6CMu_E"
      },
      "source": [
        ""
      ],
      "execution_count": null,
      "outputs": []
    },
    {
      "cell_type": "code",
      "metadata": {
        "colab": {
          "base_uri": "https://localhost:8080/",
          "height": 375
        },
        "id": "u4QXdoKRriGS",
        "outputId": "7ea6aba5-eec0-43ee-e061-168373d19d3d"
      },
      "source": [
        "w = train_weights_RBM(training, 4, 1000, 0.01)"
      ],
      "execution_count": 162,
      "outputs": [
        {
          "output_type": "error",
          "ename": "KeyboardInterrupt",
          "evalue": "ignored",
          "traceback": [
            "\u001b[0;31m---------------------------------------------------------------------------\u001b[0m",
            "\u001b[0;31mKeyboardInterrupt\u001b[0m                         Traceback (most recent call last)",
            "\u001b[0;32m<ipython-input-162-a3bff2bcd121>\u001b[0m in \u001b[0;36m<module>\u001b[0;34m()\u001b[0m\n\u001b[0;32m----> 1\u001b[0;31m \u001b[0mw\u001b[0m \u001b[0;34m=\u001b[0m \u001b[0mtrain_weights_RBM\u001b[0m\u001b[0;34m(\u001b[0m\u001b[0mtraining\u001b[0m\u001b[0;34m,\u001b[0m \u001b[0;36m4\u001b[0m\u001b[0;34m,\u001b[0m \u001b[0;36m1000\u001b[0m\u001b[0;34m,\u001b[0m \u001b[0;36m0.01\u001b[0m\u001b[0;34m)\u001b[0m\u001b[0;34m\u001b[0m\u001b[0;34m\u001b[0m\u001b[0m\n\u001b[0m",
            "\u001b[0;32m<ipython-input-102-816421a38f1b>\u001b[0m in \u001b[0;36mtrain_weights_RBM\u001b[0;34m(input, hidden_size, epoch_len, eta)\u001b[0m\n\u001b[1;32m     14\u001b[0m       \u001b[0mprod\u001b[0m \u001b[0;34m=\u001b[0m \u001b[0mnp\u001b[0m\u001b[0;34m.\u001b[0m\u001b[0mmatmul\u001b[0m\u001b[0;34m(\u001b[0m\u001b[0mw\u001b[0m\u001b[0;34m,\u001b[0m \u001b[0mh0\u001b[0m\u001b[0;34m)\u001b[0m\u001b[0;34m\u001b[0m\u001b[0;34m\u001b[0m\u001b[0m\n\u001b[1;32m     15\u001b[0m       \u001b[0mv1\u001b[0m \u001b[0;34m=\u001b[0m \u001b[0mnp\u001b[0m\u001b[0;34m.\u001b[0m\u001b[0msign\u001b[0m\u001b[0;34m(\u001b[0m\u001b[0;34m(\u001b[0m\u001b[0;36m1\u001b[0m \u001b[0;34m/\u001b[0m \u001b[0;34m(\u001b[0m\u001b[0;36m1\u001b[0m\u001b[0;34m+\u001b[0m \u001b[0mnp\u001b[0m\u001b[0;34m.\u001b[0m\u001b[0mexp\u001b[0m\u001b[0;34m(\u001b[0m\u001b[0;34m-\u001b[0m\u001b[0;36m1\u001b[0m \u001b[0;34m*\u001b[0m \u001b[0mprod\u001b[0m\u001b[0;34m)\u001b[0m\u001b[0;34m)\u001b[0m\u001b[0;34m)\u001b[0m \u001b[0;34m-\u001b[0m \u001b[0mnp\u001b[0m\u001b[0;34m.\u001b[0m\u001b[0mrandom\u001b[0m\u001b[0;34m.\u001b[0m\u001b[0muniform\u001b[0m\u001b[0;34m(\u001b[0m\u001b[0msize\u001b[0m \u001b[0;34m=\u001b[0m \u001b[0mprod\u001b[0m\u001b[0;34m.\u001b[0m\u001b[0mshape\u001b[0m\u001b[0;34m)\u001b[0m\u001b[0;34m)\u001b[0m\u001b[0;34m\u001b[0m\u001b[0;34m\u001b[0m\u001b[0m\n\u001b[0;32m---> 16\u001b[0;31m       \u001b[0mV1\u001b[0m \u001b[0;34m=\u001b[0m \u001b[0mnp\u001b[0m\u001b[0;34m.\u001b[0m\u001b[0mvstack\u001b[0m\u001b[0;34m(\u001b[0m\u001b[0;34m(\u001b[0m\u001b[0mV1\u001b[0m\u001b[0;34m,\u001b[0m \u001b[0mv1\u001b[0m\u001b[0;34m)\u001b[0m\u001b[0;34m)\u001b[0m\u001b[0;34m\u001b[0m\u001b[0;34m\u001b[0m\u001b[0m\n\u001b[0m\u001b[1;32m     17\u001b[0m       \u001b[0mprod\u001b[0m \u001b[0;34m=\u001b[0m \u001b[0mnp\u001b[0m\u001b[0;34m.\u001b[0m\u001b[0mmatmul\u001b[0m\u001b[0;34m(\u001b[0m\u001b[0mw\u001b[0m\u001b[0;34m.\u001b[0m\u001b[0mT\u001b[0m\u001b[0;34m,\u001b[0m \u001b[0mv1\u001b[0m\u001b[0;34m)\u001b[0m\u001b[0;34m\u001b[0m\u001b[0;34m\u001b[0m\u001b[0m\n\u001b[1;32m     18\u001b[0m       \u001b[0mh1\u001b[0m \u001b[0;34m=\u001b[0m \u001b[0mnp\u001b[0m\u001b[0;34m.\u001b[0m\u001b[0msign\u001b[0m\u001b[0;34m(\u001b[0m\u001b[0;34m(\u001b[0m\u001b[0;36m1\u001b[0m \u001b[0;34m/\u001b[0m \u001b[0;34m(\u001b[0m\u001b[0;36m1\u001b[0m\u001b[0;34m+\u001b[0m \u001b[0mnp\u001b[0m\u001b[0;34m.\u001b[0m\u001b[0mexp\u001b[0m\u001b[0;34m(\u001b[0m\u001b[0;34m-\u001b[0m\u001b[0;36m1\u001b[0m \u001b[0;34m*\u001b[0m \u001b[0mprod\u001b[0m\u001b[0;34m)\u001b[0m\u001b[0;34m)\u001b[0m\u001b[0;34m)\u001b[0m \u001b[0;34m-\u001b[0m \u001b[0mnp\u001b[0m\u001b[0;34m.\u001b[0m\u001b[0mrandom\u001b[0m\u001b[0;34m.\u001b[0m\u001b[0muniform\u001b[0m\u001b[0;34m(\u001b[0m\u001b[0msize\u001b[0m \u001b[0;34m=\u001b[0m \u001b[0mprod\u001b[0m\u001b[0;34m.\u001b[0m\u001b[0mshape\u001b[0m\u001b[0;34m)\u001b[0m\u001b[0;34m)\u001b[0m\u001b[0;34m\u001b[0m\u001b[0;34m\u001b[0m\u001b[0m\n",
            "\u001b[0;32m<__array_function__ internals>\u001b[0m in \u001b[0;36mvstack\u001b[0;34m(*args, **kwargs)\u001b[0m\n",
            "\u001b[0;32m/usr/local/lib/python3.7/dist-packages/numpy/core/shape_base.py\u001b[0m in \u001b[0;36mvstack\u001b[0;34m(tup)\u001b[0m\n\u001b[1;32m    281\u001b[0m     \u001b[0;32mif\u001b[0m \u001b[0;32mnot\u001b[0m \u001b[0misinstance\u001b[0m\u001b[0;34m(\u001b[0m\u001b[0marrs\u001b[0m\u001b[0;34m,\u001b[0m \u001b[0mlist\u001b[0m\u001b[0;34m)\u001b[0m\u001b[0;34m:\u001b[0m\u001b[0;34m\u001b[0m\u001b[0;34m\u001b[0m\u001b[0m\n\u001b[1;32m    282\u001b[0m         \u001b[0marrs\u001b[0m \u001b[0;34m=\u001b[0m \u001b[0;34m[\u001b[0m\u001b[0marrs\u001b[0m\u001b[0;34m]\u001b[0m\u001b[0;34m\u001b[0m\u001b[0;34m\u001b[0m\u001b[0m\n\u001b[0;32m--> 283\u001b[0;31m     \u001b[0;32mreturn\u001b[0m \u001b[0m_nx\u001b[0m\u001b[0;34m.\u001b[0m\u001b[0mconcatenate\u001b[0m\u001b[0;34m(\u001b[0m\u001b[0marrs\u001b[0m\u001b[0;34m,\u001b[0m \u001b[0;36m0\u001b[0m\u001b[0;34m)\u001b[0m\u001b[0;34m\u001b[0m\u001b[0;34m\u001b[0m\u001b[0m\n\u001b[0m\u001b[1;32m    284\u001b[0m \u001b[0;34m\u001b[0m\u001b[0m\n\u001b[1;32m    285\u001b[0m \u001b[0;34m\u001b[0m\u001b[0m\n",
            "\u001b[0;32m<__array_function__ internals>\u001b[0m in \u001b[0;36mconcatenate\u001b[0;34m(*args, **kwargs)\u001b[0m\n",
            "\u001b[0;31mKeyboardInterrupt\u001b[0m: "
          ]
        }
      ]
    },
    {
      "cell_type": "code",
      "metadata": {
        "id": "VyIR_BWh_JvW"
      },
      "source": [
        "rbm"
      ],
      "execution_count": null,
      "outputs": []
    }
  ]
}